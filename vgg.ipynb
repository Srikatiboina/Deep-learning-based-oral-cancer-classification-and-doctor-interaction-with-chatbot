{
 "cells": [
  {
   "cell_type": "code",
   "execution_count": 2,
   "metadata": {},
   "outputs": [],
   "source": [
    "import tensorflow as tf\n",
    "import numpy as np\n",
    "import matplotlib.pyplot as plt\n",
    "from tensorflow.keras.layers import *\n",
    "from tensorflow.keras.models import * \n",
    "from tensorflow.keras.preprocessing import image"
   ]
  },
  {
   "cell_type": "code",
   "execution_count": 5,
   "metadata": {},
   "outputs": [],
   "source": [
    "train_set='train'\n",
    "val_set='val'\n",
    "test_set='test'"
   ]
  },
  {
   "cell_type": "code",
   "execution_count": 6,
   "metadata": {},
   "outputs": [],
   "source": [
    "train_datagen = image.ImageDataGenerator(\n",
    "    rotation_range=15,\n",
    "    shear_range=0.2,\n",
    "    zoom_range=0.2,\n",
    "    horizontal_flip=True,\n",
    "    width_shift_range=0.1,\n",
    "    height_shift_range=0.1\n",
    ")\n",
    "validation_datagen= image.ImageDataGenerator(    rotation_range=15,\n",
    "    shear_range=0.2,\n",
    "    zoom_range=0.2,\n",
    "    horizontal_flip=True,\n",
    "    width_shift_range=0.1,\n",
    "    height_shift_range=0.1)\n",
    "test_datagen= image.ImageDataGenerator(    rotation_range=15,\n",
    "    shear_range=0.2,\n",
    "    zoom_range=0.2,\n",
    "    horizontal_flip=True,\n",
    "    width_shift_range=0.1,\n",
    "    height_shift_range=0.1)"
   ]
  },
  {
   "cell_type": "code",
   "execution_count": 7,
   "metadata": {},
   "outputs": [
    {
     "name": "stdout",
     "output_type": "stream",
     "text": [
      "Found 90 images belonging to 2 classes.\n",
      "Found 20 images belonging to 2 classes.\n",
      "Found 21 images belonging to 2 classes.\n"
     ]
    }
   ],
   "source": [
    "# image addressing\n",
    "train_generator = train_datagen.flow_from_directory(\n",
    "    train_set,\n",
    "    target_size = (224,224),\n",
    "    batch_size = 8,\n",
    "    class_mode = 'binary')\n",
    "validation_generator = validation_datagen.flow_from_directory(\n",
    "    val_set,\n",
    "    target_size = (224,224),\n",
    "    batch_size = 8,\n",
    "    shuffle=True,\n",
    "    class_mode = 'binary')\n",
    "test_generator = test_datagen.flow_from_directory(\n",
    "    test_set,\n",
    "    target_size = (224,224),\n",
    "    batch_size = 8,\n",
    "    class_mode = 'binary')"
   ]
  },
  {
   "cell_type": "code",
   "execution_count": 8,
   "metadata": {},
   "outputs": [
    {
     "data": {
      "text/plain": [
       "{'cancer': 0, 'non-cancer': 1}"
      ]
     },
     "execution_count": 8,
     "metadata": {},
     "output_type": "execute_result"
    }
   ],
   "source": [
    "train_generator.class_indices"
   ]
  },
  {
   "cell_type": "code",
   "execution_count": 9,
   "metadata": {},
   "outputs": [
    {
     "name": "stdout",
     "output_type": "stream",
     "text": [
      "Downloading data from https://storage.googleapis.com/tensorflow/keras-applications/vgg16/vgg16_weights_tf_dim_ordering_tf_kernels_notop.h5\n",
      "58892288/58889256 [==============================] - 5s 0us/step\n"
     ]
    }
   ],
   "source": [
    "base_for_model = tf.keras.applications.VGG16(weights='imagenet', input_shape=(224,224,3), include_top=False)"
   ]
  },
  {
   "cell_type": "code",
   "execution_count": 10,
   "metadata": {},
   "outputs": [],
   "source": [
    "for layer in base_for_model.layers:\n",
    "    layer.trainable = False"
   ]
  },
  {
   "cell_type": "code",
   "execution_count": 11,
   "metadata": {},
   "outputs": [
    {
     "name": "stdout",
     "output_type": "stream",
     "text": [
      "Model: \"sequential\"\n",
      "_________________________________________________________________\n",
      "Layer (type)                 Output Shape              Param #   \n",
      "=================================================================\n",
      "vgg16 (Functional)           (None, 7, 7, 512)         14714688  \n",
      "_________________________________________________________________\n",
      "gaussian_noise (GaussianNois (None, 7, 7, 512)         0         \n",
      "_________________________________________________________________\n",
      "global_average_pooling2d (Gl (None, 512)               0         \n",
      "_________________________________________________________________\n",
      "dense (Dense)                (None, 512)               262656    \n",
      "_________________________________________________________________\n",
      "batch_normalization (BatchNo (None, 512)               2048      \n",
      "_________________________________________________________________\n",
      "dense_1 (Dense)              (None, 1)                 513       \n",
      "=================================================================\n",
      "Total params: 14,979,905\n",
      "Trainable params: 264,193\n",
      "Non-trainable params: 14,715,712\n",
      "_________________________________________________________________\n"
     ]
    }
   ],
   "source": [
    "model = Sequential()\n",
    "model.add(base_for_model) \n",
    "model.add(GaussianNoise(0.25)) #to prevent overfitting\n",
    "model.add(GlobalAveragePooling2D()) #to converge and reduce the parameters\n",
    "model.add(Dense(512, activation = 'relu')) #hidden layer (relu activation function is suggested for images)\n",
    "model.add(BatchNormalization()) #to prevent overfitting\n",
    "model.add(Dense(1, activation='sigmoid')) #output layer\n",
    "model.summary()"
   ]
  },
  {
   "cell_type": "code",
   "execution_count": 12,
   "metadata": {},
   "outputs": [],
   "source": [
    "adam= tf.keras.optimizers.Adam(learning_rate=0.001)\n",
    "model.compile(optimizer=adam,loss= 'binary_crossentropy', metrics=['accuracy','Precision','Recall','AUC'])"
   ]
  },
  {
   "cell_type": "code",
   "execution_count": 13,
   "metadata": {},
   "outputs": [],
   "source": [
    "mp= tf.keras.callbacks.ModelCheckpoint(filepath='mymodel.hdf5', \n",
    "                               verbose=2, save_best_only=True)\n",
    "es= tf.keras.callbacks.EarlyStopping(monitor='val_loss', min_delta=0.05, patience=3)\n",
    "callback=[es,mp]"
   ]
  },
  {
   "cell_type": "code",
   "execution_count": 14,
   "metadata": {},
   "outputs": [
    {
     "name": "stdout",
     "output_type": "stream",
     "text": [
      "Epoch 1/20\n",
      " 9/80 [==>...........................] - ETA: 1:35 - loss: 0.7287 - accuracy: 0.6818 - precision: 0.5172 - recall: 0.6818 - auc: 0.7221"
     ]
    },
    {
     "name": "stderr",
     "output_type": "stream",
     "text": [
      "c:\\Users\\PERSONAL\\AppData\\Local\\Programs\\Python\\Python37\\lib\\site-packages\\PIL\\Image.py:993: UserWarning: Palette images with Transparency expressed in bytes should be converted to RGBA images\n",
      "  \"Palette images with Transparency expressed in bytes should be \"\n"
     ]
    },
    {
     "name": "stdout",
     "output_type": "stream",
     "text": [
      "12/80 [===>..........................] - ETA: 1:37 - loss: 0.6873 - accuracy: 0.6778 - precision: 0.5122 - recall: 0.7000 - auc: 0.7450WARNING:tensorflow:Your input ran out of data; interrupting training. Make sure that your dataset or generator can generate at least `steps_per_epoch * epochs` batches (in this case, 1600 batches). You may need to use the repeat() function when building your dataset.\n",
      "\n",
      "Epoch 00001: val_loss improved from inf to 0.41388, saving model to mymodel.hdf5\n",
      "12/80 [===>..........................] - 22s 2s/step - loss: 0.6873 - accuracy: 0.6778 - precision: 0.5122 - recall: 0.7000 - auc: 0.7450 - val_loss: 0.4139 - val_accuracy: 0.8500 - val_precision: 1.0000 - val_recall: 0.5714 - val_auc: 0.9341\n"
     ]
    }
   ],
   "source": [
    "history = model.fit(\n",
    "    train_generator,\n",
    "    steps_per_epoch=80, #steps_per_epoch= training_images/batch_size= 4946/8<=618\n",
    "    epochs = 20, #own choice\n",
    "    validation_data = validation_generator,\n",
    "    callbacks=callback\n",
    ")"
   ]
  },
  {
   "cell_type": "code",
   "execution_count": 15,
   "metadata": {},
   "outputs": [
    {
     "name": "stdout",
     "output_type": "stream",
     "text": [
      "dict_keys(['loss', 'accuracy', 'precision', 'recall', 'auc', 'val_loss', 'val_accuracy', 'val_precision', 'val_recall', 'val_auc'])\n"
     ]
    }
   ],
   "source": [
    "print(history.history.keys())\n",
    "import matplotlib.pyplot as plt\n",
    "acc=(history.history['accuracy'])\n",
    "loss=(history.history['loss'])\n",
    "prc=(history.history['precision'])\n",
    "rec=(history.history['recall'])\n",
    "auc=(history.history['auc'])\n",
    "val_acc=(history.history['val_accuracy'])\n",
    "val_loss=(history.history['val_loss'])\n",
    "val_prc=(history.history['val_precision'])\n",
    "val_rec=(history.history['val_recall'])\n",
    "val_auc=(history.history['val_auc'])"
   ]
  },
  {
   "cell_type": "code",
   "execution_count": 17,
   "metadata": {},
   "outputs": [
    {
     "name": "stdout",
     "output_type": "stream",
     "text": [
      "12/12 [==============================] - 17s 1s/step - loss: 0.3352 - accuracy: 0.8889 - precision: 0.9545 - recall: 0.7000 - auc: 0.9622\n"
     ]
    },
    {
     "data": {
      "text/plain": [
       "[0.33524152636528015,\n",
       " 0.8888888955116272,\n",
       " 0.9545454382896423,\n",
       " 0.699999988079071,\n",
       " 0.962222158908844]"
      ]
     },
     "execution_count": 17,
     "metadata": {},
     "output_type": "execute_result"
    }
   ],
   "source": [
    "model.evaluate(train_generator)"
   ]
  },
  {
   "cell_type": "code",
   "execution_count": 18,
   "metadata": {},
   "outputs": [
    {
     "name": "stdout",
     "output_type": "stream",
     "text": [
      "3/3 [==============================] - 2s 698ms/step - loss: 0.4468 - accuracy: 0.8500 - precision: 0.8333 - recall: 0.7143 - auc: 0.9505\n"
     ]
    },
    {
     "data": {
      "text/plain": [
       "[0.4467600882053375,\n",
       " 0.8500000238418579,\n",
       " 0.8333333134651184,\n",
       " 0.7142857313156128,\n",
       " 0.9505494832992554]"
      ]
     },
     "execution_count": 18,
     "metadata": {},
     "output_type": "execute_result"
    }
   ],
   "source": [
    "model.evaluate(validation_generator)"
   ]
  },
  {
   "cell_type": "code",
   "execution_count": 19,
   "metadata": {},
   "outputs": [
    {
     "name": "stdout",
     "output_type": "stream",
     "text": [
      "3/3 [==============================] - 2s 799ms/step - loss: 0.4292 - accuracy: 0.8571 - precision: 0.8333 - recall: 0.7143 - auc: 0.9388\n"
     ]
    },
    {
     "data": {
      "text/plain": [
       "[0.4291858673095703,\n",
       " 0.8571428656578064,\n",
       " 0.8333333134651184,\n",
       " 0.7142857313156128,\n",
       " 0.9387755393981934]"
      ]
     },
     "execution_count": 19,
     "metadata": {},
     "output_type": "execute_result"
    }
   ],
   "source": [
    "model.evaluate(test_generator)"
   ]
  },
  {
   "cell_type": "code",
   "execution_count": 20,
   "metadata": {},
   "outputs": [
    {
     "data": {
      "text/plain": [
       "<AxesSubplot:>"
      ]
     },
     "execution_count": 20,
     "metadata": {},
     "output_type": "execute_result"
    },
    {
     "data": {
      "image/png": "[encoded data removed]",
      "text/plain": [
       "<Figure size 640x480 with 2 Axes>"
      ]
     },
     "metadata": {},
     "output_type": "display_data"
    }
   ],
   "source": [
    "import seaborn as sns\n",
    "from sklearn.metrics import confusion_matrix\n",
    "predictions = model.predict(test_generator)\n",
    "test_generator.classes\n",
    "cm = confusion_matrix(test_generator.classes, predictions.round())\n",
    "\n",
    "sns.heatmap(cm,  annot=True, fmt=\"d\" ,cmap=\"YlGnBu\")"
   ]
  },
  {
   "cell_type": "code",
   "execution_count": 21,
   "metadata": {},
   "outputs": [
    {
     "name": "stdout",
     "output_type": "stream",
     "text": [
      "              precision    recall  f1-score   support\n",
      "\n",
      "           0       0.62      0.71      0.67        14\n",
      "           1       0.20      0.14      0.17         7\n",
      "\n",
      "    accuracy                           0.52        21\n",
      "   macro avg       0.41      0.43      0.42        21\n",
      "weighted avg       0.48      0.52      0.50        21\n",
      "\n"
     ]
    }
   ],
   "source": [
    "from sklearn.metrics import classification_report\n",
    "print(classification_report(test_generator.classes, predictions.round())) #.argmax(axis=-1)"
   ]
  },
  {
   "cell_type": "code",
   "execution_count": 27,
   "metadata": {},
   "outputs": [
    {
     "ename": "AttributeError",
     "evalue": "'numpy.ndarray' object has no attribute 'load_img'",
     "output_type": "error",
     "traceback": [
      "\u001b[1;31m---------------------------------------------------------------------------\u001b[0m",
      "\u001b[1;31mAttributeError\u001b[0m                            Traceback (most recent call last)",
      "\u001b[1;32m~\\AppData\\Local\\Temp\\ipykernel_204\\2596507846.py\u001b[0m in \u001b[0;36m<module>\u001b[1;34m\u001b[0m\n\u001b[1;32m----> 1\u001b[1;33m \u001b[0mimg\u001b[0m \u001b[1;33m=\u001b[0m \u001b[0mimage\u001b[0m\u001b[1;33m.\u001b[0m\u001b[0mload_img\u001b[0m\u001b[1;33m(\u001b[0m\u001b[1;34mr'C:\\Users\\PERSONAL\\Desktop\\oral cancer\\data\\non-cancer\\_tongue.jpg'\u001b[0m\u001b[1;33m,\u001b[0m\u001b[0mtarget_size\u001b[0m\u001b[1;33m=\u001b[0m\u001b[1;33m(\u001b[0m\u001b[1;36m224\u001b[0m\u001b[1;33m,\u001b[0m\u001b[1;36m224\u001b[0m\u001b[1;33m)\u001b[0m\u001b[1;33m)\u001b[0m\u001b[1;33m\u001b[0m\u001b[1;33m\u001b[0m\u001b[0m\n\u001b[0m\u001b[0;32m      2\u001b[0m \u001b[0mimaga\u001b[0m \u001b[1;33m=\u001b[0m \u001b[0mimage\u001b[0m\u001b[1;33m.\u001b[0m\u001b[0mimg_to_array\u001b[0m\u001b[1;33m(\u001b[0m\u001b[0mimg\u001b[0m\u001b[1;33m)\u001b[0m\u001b[1;33m\u001b[0m\u001b[1;33m\u001b[0m\u001b[0m\n\u001b[0;32m      3\u001b[0m \u001b[0mimage\u001b[0m \u001b[1;33m=\u001b[0m \u001b[0mnp\u001b[0m\u001b[1;33m.\u001b[0m\u001b[0mexpand_dims\u001b[0m\u001b[1;33m(\u001b[0m\u001b[0mimaga\u001b[0m\u001b[1;33m,\u001b[0m\u001b[0maxis\u001b[0m\u001b[1;33m=\u001b[0m\u001b[1;36m0\u001b[0m\u001b[1;33m)\u001b[0m\u001b[1;33m\u001b[0m\u001b[1;33m\u001b[0m\u001b[0m\n\u001b[0;32m      4\u001b[0m \u001b[0mypred\u001b[0m \u001b[1;33m=\u001b[0m \u001b[0mmodel\u001b[0m\u001b[1;33m.\u001b[0m\u001b[0mpredict\u001b[0m\u001b[1;33m(\u001b[0m\u001b[0mimage\u001b[0m\u001b[1;33m)\u001b[0m\u001b[1;33m\u001b[0m\u001b[1;33m\u001b[0m\u001b[0m\n\u001b[0;32m      5\u001b[0m \u001b[1;32mif\u001b[0m \u001b[0mypred\u001b[0m\u001b[1;33m<\u001b[0m\u001b[1;36m0.5\u001b[0m\u001b[1;33m:\u001b[0m\u001b[1;33m\u001b[0m\u001b[1;33m\u001b[0m\u001b[0m\n",
      "\u001b[1;31mAttributeError\u001b[0m: 'numpy.ndarray' object has no attribute 'load_img'"
     ]
    }
   ],
   "source": [
    "img = image.load_img(r'C:\\Users\\PERSONAL\\Desktop\\oral cancer\\data\\non-cancer\\_tongue.jpg',target_size=(224,224))\n",
    "imaga = image.img_to_array(img)\n",
    "image = np.expand_dims(imaga,axis=0)  \n",
    "ypred = model.predict(image)\n",
    "if ypred<0.5:\n",
    "      ypred=\"non-cancer\"\n",
    "else:\n",
    "      ypred=\"cancer\" \n",
    "plt.imshow(img)\n",
    "ypred"
   ]
  }
 ],
 "metadata": {
  "kernelspec": {
   "display_name": "Python 3",
   "language": "python",
   "name": "python3"
  },
  "language_info": {
   "codemirror_mode": {
    "name": "ipython",
    "version": 3
   },
   "file_extension": ".py",
   "mimetype": "text/x-python",
   "name": "python",
   "nbconvert_exporter": "python",
   "pygments_lexer": "ipython3",
   "version": "3.7.4"
  }
 },
 "nbformat": 4,
 "nbformat_minor": 2
}
